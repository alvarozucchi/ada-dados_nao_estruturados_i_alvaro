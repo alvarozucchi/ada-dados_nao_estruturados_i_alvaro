{
 "cells": [
  {
   "cell_type": "code",
   "execution_count": null,
   "id": "ce526e7b",
   "metadata": {},
   "outputs": [],
   "source": [
    "import cv2 as cv\n",
    "import numpy as np\n",
    "import matplotlib.pyplot as plt"
   ]
  },
  {
   "cell_type": "code",
   "execution_count": null,
   "id": "9891f1dd",
   "metadata": {},
   "outputs": [],
   "source": [
    "full = cv.imread('storage/wally.jpg')\n",
    "full = cv.cvtColor(full, cv.COLOR_BGR2RGB)\n",
    "\n",
    "full.shape"
   ]
  },
  {
   "cell_type": "code",
   "execution_count": null,
   "id": "fa2ebdba",
   "metadata": {},
   "outputs": [],
   "source": [
    "plt.figure(figsize=(30,25))\n",
    "plt.imshow(full)"
   ]
  },
  {
   "cell_type": "code",
   "execution_count": null,
   "id": "bf05324c",
   "metadata": {},
   "outputs": [],
   "source": [
    "face = cv.imread('storage/wally_face.jpg')\n",
    "face = cv.cvtColor(face, cv.COLOR_BGR2RGB)\n",
    "\n",
    "plt.figure(figsize=(2,1))\n",
    "plt.imshow(face)"
   ]
  },
  {
   "cell_type": "code",
   "execution_count": null,
   "id": "20ad8bce",
   "metadata": {},
   "outputs": [],
   "source": [
    "methods = ['cv.TM_CCOEFF', 'cv.TM_CCOEFF_NORMED', 'cv.TM_CCORR', 'cv.TM_CCORR_NORMED', 'cv.TM_SQDIFF', 'cv.TM_SQDIFF_NORMED']"
   ]
  },
  {
   "cell_type": "code",
   "execution_count": null,
   "id": "6390aede",
   "metadata": {},
   "outputs": [],
   "source": [
    "for m in methods:\n",
    "    full_copy = full.copy()\n",
    "    method = eval(m)\n",
    "    res = cv.matchTemplate(full_copy, face, method)\n",
    "    \n",
    "    min_val, max_val, min_loc, max_loc = cv.minMaxLoc(res)\n",
    "    \n",
    "    if method in [cv.TM_SQDIFF, cv.TM_SQDIFF_NORMED]:\n",
    "        top_left = min_loc\n",
    "    else:\n",
    "        top_left = max_loc\n",
    "    \n",
    "    height, width, channels = face.shape\n",
    "    bottom_right = (top_left[0]+width, top_left[1]+height)\n",
    "    \n",
    "    cv.rectangle(full_copy, top_left, bottom_right, (0,255,0),10)\n",
    "    \n",
    "    plt.figure(figsize=(20,17))\n",
    "    plt.subplot(211)\n",
    "    plt.imshow(res)\n",
    "    plt.title('RESPOSTA DO MATCH TEMPLATE')\n",
    "    plt.subplot(212)\n",
    "    plt.imshow(full_copy)\n",
    "    plt.title('IMAGEM FINAL')\n",
    "    plt.suptitle(m)\n",
    "    plt.show()\n",
    "    \n",
    "    print('\\n')\n",
    "    print('\\n')"
   ]
  },
  {
   "cell_type": "code",
   "execution_count": null,
   "id": "25dd787e",
   "metadata": {},
   "outputs": [],
   "source": [
    "# CONTORNO E MASCARA"
   ]
  },
  {
   "cell_type": "code",
   "execution_count": null,
   "id": "72fddce9",
   "metadata": {},
   "outputs": [],
   "source": [
    "img = cv.imread('storage/leao.jpg', 0)\n",
    "plt.imshow(img, cmap='gray')"
   ]
  },
  {
   "cell_type": "code",
   "execution_count": null,
   "id": "cb7290e8",
   "metadata": {},
   "outputs": [],
   "source": [
    "img = cv.GaussianBlur(img, (7,7), 10)"
   ]
  },
  {
   "cell_type": "code",
   "execution_count": null,
   "id": "1d9d24d5",
   "metadata": {},
   "outputs": [],
   "source": [
    "plt.imshow(img, cmap='gray')"
   ]
  },
  {
   "cell_type": "code",
   "execution_count": null,
   "id": "1128712d",
   "metadata": {},
   "outputs": [],
   "source": [
    "ret, img = cv.threshold(img, 100, 255, cv.THRESH_BINARY_INV)\n",
    "plt.imshow(img, cmap='gray')"
   ]
  },
  {
   "cell_type": "code",
   "execution_count": null,
   "id": "fa953d8f",
   "metadata": {},
   "outputs": [],
   "source": [
    "contorno, hier = cv.findContours(img, cv.RETR_CCOMP, cv.CHAIN_APPROX_SIMPLE)"
   ]
  },
  {
   "cell_type": "code",
   "execution_count": null,
   "id": "ba3d59c9",
   "metadata": {},
   "outputs": [],
   "source": [
    "tela = np.zeros(img.shape)"
   ]
  },
  {
   "cell_type": "code",
   "execution_count": null,
   "id": "3145e46a",
   "metadata": {},
   "outputs": [],
   "source": [
    "plt.imshow(tela, cmap='gray')"
   ]
  },
  {
   "cell_type": "code",
   "execution_count": null,
   "id": "0daa4127",
   "metadata": {},
   "outputs": [],
   "source": [
    "for i in range(len(contorno)):\n",
    "    if hier[0][i][3] == -1:\n",
    "        cv.drawContours(tela, contorno, i, 255, -1)"
   ]
  },
  {
   "cell_type": "code",
   "execution_count": null,
   "id": "dee41867",
   "metadata": {},
   "outputs": [],
   "source": [
    "plt.imshow(tela,cmap='gray')"
   ]
  },
  {
   "cell_type": "code",
   "execution_count": null,
   "id": "dc13e30b",
   "metadata": {},
   "outputs": [],
   "source": [
    "img = cv.imread('storage/leao.jpg', 0)"
   ]
  },
  {
   "cell_type": "code",
   "execution_count": null,
   "id": "c4e5a389",
   "metadata": {},
   "outputs": [],
   "source": [
    "hh, ww = img.shape[:2]\n"
   ]
  },
  {
   "cell_type": "code",
   "execution_count": null,
   "id": "3a3173c8",
   "metadata": {},
   "outputs": [],
   "source": [
    "ret, img2 = cv.threshold(img, 70, 255, cv.THRESH_BINARY_INV)\n",
    "plt.imshow(img2, cmap='gray')"
   ]
  },
  {
   "cell_type": "code",
   "execution_count": null,
   "id": "fbc3e33a",
   "metadata": {},
   "outputs": [],
   "source": [
    "kernel = cv.getStructuringElement(cv.MORPH_ELLIPSE, (20,20))"
   ]
  },
  {
   "cell_type": "code",
   "execution_count": null,
   "id": "373a944e",
   "metadata": {},
   "outputs": [],
   "source": [
    "mask = cv.morphologyEx(img2, cv.MORPH_CLOSE, kernel)"
   ]
  },
  {
   "cell_type": "code",
   "execution_count": null,
   "id": "481796bb",
   "metadata": {},
   "outputs": [],
   "source": [
    "plt.imshow(mask, cmap='gray')"
   ]
  },
  {
   "cell_type": "code",
   "execution_count": null,
   "id": "771ca18d",
   "metadata": {},
   "outputs": [],
   "source": [
    "result = cv.bitwise_and(img, img, mask=mask)"
   ]
  },
  {
   "cell_type": "code",
   "execution_count": null,
   "id": "ebbeb331",
   "metadata": {},
   "outputs": [],
   "source": [
    "plt.imshow(result, cmap='gray')"
   ]
  },
  {
   "cell_type": "code",
   "execution_count": null,
   "id": "3a982774",
   "metadata": {},
   "outputs": [],
   "source": [
    "#CORREÇÕES DOS EXERCICIOS"
   ]
  },
  {
   "cell_type": "markdown",
   "id": "2e5e2f41",
   "metadata": {},
   "source": [
    "# Aula 1:\n",
    "1) Escolha uma imagem e a carregue em seu notebook. Depois a imprima com PIL e MatplotLib\n",
    "2) Transforme sua imagem em preto e branco (tons de cinza)\n",
    "3) Transforme sua imagem em tons de verde\n",
    "4) Rotacione sua imagem (90, 180 e 360 graus)\n",
    "5) Crie uma nova imagem a partir da original, a nova imagem deve ser um segmento 25x25 da sua imagem original\n",
    "6) Crie uma nova imagem vazia em branco (ou preto)\n",
    "7) Escreva seu nome no centro da nova imagem\n",
    "8) Transforme sua imagem em uma imagem binaria utilizando 4 tresholds diferentes. (Desafio: Imprima os 4 no mesmo plot)\n",
    "9) (Desafio) Crie uma nova imagem, e desenhe um boneco palito no centro dela.\n",
    "10) (Desafio) Escolha uma imagem com saturação e brilho ruins e a melhore."
   ]
  },
  {
   "cell_type": "code",
   "execution_count": null,
   "id": "87365542",
   "metadata": {},
   "outputs": [],
   "source": [
    "#1\n",
    "from PIL import Image\n",
    "pic = Image.open('storage/leao.jpg')\n",
    "pic"
   ]
  },
  {
   "cell_type": "code",
   "execution_count": null,
   "id": "49dccbbd",
   "metadata": {},
   "outputs": [],
   "source": [
    "#1\n",
    "pic_arr = np.asarray(pic)\n",
    "plt.imshow(pic_arr)"
   ]
  },
  {
   "cell_type": "code",
   "execution_count": null,
   "id": "1f5f24e9",
   "metadata": {},
   "outputs": [],
   "source": [
    "#2\n",
    "im_gray = np.sum(pic_arr / 3, axis=2, keepdims = True)\n",
    "\n",
    "plt.imshow(im_gray, cmap = 'gray')"
   ]
  },
  {
   "cell_type": "code",
   "execution_count": null,
   "id": "39ae172b",
   "metadata": {},
   "outputs": [],
   "source": [
    "#3\n",
    "pic_green = pic_arr.copy()\n",
    "#plt.imshow(pic_green)\n",
    "pic_green[:,:,0] = 0\n",
    "pic_green[:,:,2]=0\n",
    "plt.imshow(pic_green)"
   ]
  },
  {
   "cell_type": "code",
   "execution_count": null,
   "id": "3a1eecfc",
   "metadata": {},
   "outputs": [],
   "source": [
    "#4\n",
    "flip_im = cv.flip(pic_arr, 0)\n",
    "\n",
    "plt.imshow(flip_im)"
   ]
  },
  {
   "cell_type": "code",
   "execution_count": null,
   "id": "e38d7ef8",
   "metadata": {},
   "outputs": [],
   "source": [
    "flip_im = cv.flip(pic_arr, -1)\n",
    "\n",
    "plt.imshow(flip_im)"
   ]
  },
  {
   "cell_type": "code",
   "execution_count": null,
   "id": "a4a2ae4a",
   "metadata": {},
   "outputs": [],
   "source": [
    "flip_im = cv.flip(pic_arr, 1)\n",
    "\n",
    "plt.imshow(flip_im)"
   ]
  },
  {
   "cell_type": "code",
   "execution_count": null,
   "id": "c64fdf7d",
   "metadata": {},
   "outputs": [],
   "source": [
    "#5\n",
    "plt.figure(figsize=(1,2))\n",
    "plt.imshow(pic_arr[140:165,100:125])"
   ]
  },
  {
   "cell_type": "code",
   "execution_count": null,
   "id": "a2ac032d",
   "metadata": {},
   "outputs": [],
   "source": [
    "#6\n",
    "pic_ones = np.ones((550,550))\n",
    "plt.imshow(pic_ones,cmap='gray')"
   ]
  },
  {
   "cell_type": "code",
   "execution_count": null,
   "id": "17aa232b",
   "metadata": {},
   "outputs": [],
   "source": [
    "#7\n",
    "cv.putText(pic_ones, text='Cleiton Rodrigues Tavares', org=(25,100), fontFace=cv.FONT_HERSHEY_SIMPLEX, fontScale=0.6, color=(255,102,0), thickness=2, lineType=cv.LINE_AA)\n",
    "plt.imshow(pic_ones, cmap='gray')"
   ]
  },
  {
   "cell_type": "code",
   "execution_count": null,
   "id": "f7c711f4",
   "metadata": {},
   "outputs": [],
   "source": [
    "#8 \n",
    "pic_lim = np.sum(pic_arr / 3, axis=2, keepdims = True)\n",
    "\n",
    "plt.subplots(2, 5, figsize=(12, 6))\n",
    "\n",
    "for i, j in enumerate([100,150,180,200]):\n",
    "    im_lim = (pic_lim > j)\n",
    "\n",
    "    plt.subplot(221+i)\n",
    "    plt.imshow(im_lim, cmap='gray')"
   ]
  },
  {
   "cell_type": "code",
   "execution_count": null,
   "id": "5ed25681",
   "metadata": {},
   "outputs": [],
   "source": [
    "#9\n",
    "image = np.ones((400, 400), dtype=np.uint8) * 255\n",
    "\n",
    "line_color = 0\n",
    "line_thickness = 2\n",
    "\n",
    "cv.circle(image, (200, 100), 40, line_color, line_thickness)\n",
    "cv.line(image, (200, 140), (200, 280), line_color, line_thickness)\n",
    "cv.line(image, (200, 160), (120, 240), line_color, line_thickness)\n",
    "cv.line(image, (200, 160), (280, 240), line_color, line_thickness)\n",
    "cv.line(image, (200, 280), (120, 380), line_color, line_thickness)\n",
    "cv.line(image, (200, 280), (280, 380), line_color, line_thickness)\n",
    "\n",
    "plt.axis('off')\n",
    "plt.imshow(image, cmap='gray')"
   ]
  },
  {
   "cell_type": "code",
   "execution_count": null,
   "id": "6076683a",
   "metadata": {},
   "outputs": [],
   "source": [
    "#10 (Desafio) Escolha uma imagem com saturação e brilho ruins e a melhore.\n",
    "# addWeighted #para brilho e contraste\n",
    "contraste = 2 #(0 a 127)\n",
    "brilho = 10#(0-100)\n",
    "\n",
    "out = cv.addWeighted(fix_im, contraste, fix_im, 0, brilho)\n",
    "plt.imshow(out)"
   ]
  },
  {
   "cell_type": "code",
   "execution_count": null,
   "id": "74c181e1",
   "metadata": {},
   "outputs": [],
   "source": [
    "# REDES NEURAIS ARTIFICIAIS\n",
    "! pip install tensorflow"
   ]
  },
  {
   "cell_type": "code",
   "execution_count": null,
   "id": "78c0bfb3",
   "metadata": {},
   "outputs": [],
   "source": [
    "import tensorflow as tf\n",
    "import pandas as pd"
   ]
  },
  {
   "cell_type": "code",
   "execution_count": null,
   "id": "862dcb0a",
   "metadata": {},
   "outputs": [],
   "source": [
    "df = pd.read_csv('storage/Celsius-to-Fahrenheit.csv')\n",
    "df.head()"
   ]
  },
  {
   "cell_type": "code",
   "execution_count": null,
   "id": "a836ac65",
   "metadata": {},
   "outputs": [],
   "source": [
    "X_train = df['Celsius']\n",
    "y_train = df['Fahrenheit']"
   ]
  },
  {
   "cell_type": "code",
   "execution_count": null,
   "id": "40c0d16f",
   "metadata": {},
   "outputs": [],
   "source": [
    "model = tf.keras.Sequential()"
   ]
  },
  {
   "cell_type": "code",
   "execution_count": null,
   "id": "b6339de4",
   "metadata": {},
   "outputs": [],
   "source": [
    "model.add(tf.keras.layers.Dense(units = 1, input_shape=[1]))"
   ]
  },
  {
   "cell_type": "code",
   "execution_count": null,
   "id": "31a7cbca",
   "metadata": {},
   "outputs": [],
   "source": [
    "model.summary()"
   ]
  },
  {
   "cell_type": "code",
   "execution_count": null,
   "id": "77aadc5a",
   "metadata": {},
   "outputs": [],
   "source": [
    "model.compile(optimizer=tf.keras.optimizers.Adam(0.5), loss='mean_squared_error')"
   ]
  },
  {
   "cell_type": "code",
   "execution_count": null,
   "id": "feddc5b7",
   "metadata": {},
   "outputs": [],
   "source": [
    "epochs = model.fit(X_train, y_train, epochs=300)"
   ]
  },
  {
   "cell_type": "code",
   "execution_count": null,
   "id": "becf4b56",
   "metadata": {},
   "outputs": [],
   "source": [
    "epochs.history.keys()"
   ]
  },
  {
   "cell_type": "code",
   "execution_count": null,
   "id": "67af1943",
   "metadata": {},
   "outputs": [],
   "source": [
    "plt.plot(epochs.history['loss'])"
   ]
  },
  {
   "cell_type": "code",
   "execution_count": null,
   "id": "b5e3e113",
   "metadata": {},
   "outputs": [],
   "source": [
    "model.get_weights()"
   ]
  },
  {
   "cell_type": "code",
   "execution_count": null,
   "id": "d7485c29",
   "metadata": {},
   "outputs": [],
   "source": [
    "temp_c = -12\n",
    "temp_f = model.predict([temp_c])\n",
    "temp_f"
   ]
  },
  {
   "cell_type": "code",
   "execution_count": null,
   "id": "fa12cf42",
   "metadata": {},
   "outputs": [],
   "source": [
    "#VENDAS DE SORVETE\n",
    "df = pd.read_csv('storage/SalesData.csv')"
   ]
  },
  {
   "cell_type": "code",
   "execution_count": null,
   "id": "5b7e03e8",
   "metadata": {},
   "outputs": [],
   "source": [
    "df.head()"
   ]
  },
  {
   "cell_type": "code",
   "execution_count": null,
   "id": "81fb03d0",
   "metadata": {},
   "outputs": [],
   "source": [
    "X = df['Temperature']\n",
    "y = df['Revenue']"
   ]
  },
  {
   "cell_type": "code",
   "execution_count": null,
   "id": "6945610b",
   "metadata": {},
   "outputs": [],
   "source": [
    "model = tf.keras.Sequential()\n",
    "model.add(tf.keras.layers.Dense(units=10, input_shape = [1])) #input_shape é só na camada inicial\n",
    "model.add(tf.keras.layers.Dense(units=1))"
   ]
  },
  {
   "cell_type": "code",
   "execution_count": null,
   "id": "e57cd03c",
   "metadata": {},
   "outputs": [],
   "source": [
    "model.compile(optimizer=tf.keras.optimizers.Adam(0.1), loss='mean_squared_error')"
   ]
  },
  {
   "cell_type": "code",
   "execution_count": null,
   "id": "e3df0ecf",
   "metadata": {},
   "outputs": [],
   "source": [
    "epochs = model.fit(X, y, epochs=200)"
   ]
  },
  {
   "cell_type": "code",
   "execution_count": null,
   "id": "56deda05",
   "metadata": {},
   "outputs": [],
   "source": [
    "plt.plot(epochs.history['loss'])"
   ]
  },
  {
   "cell_type": "code",
   "execution_count": null,
   "id": "85b3c5f1",
   "metadata": {},
   "outputs": [],
   "source": [
    "temp = 5\n",
    "receita = model.predict([temp])\n",
    "receita"
   ]
  },
  {
   "cell_type": "code",
   "execution_count": null,
   "id": "4d46ccc5",
   "metadata": {},
   "outputs": [],
   "source": [
    "plt.scatter(X,y, color='gray')\n",
    "plt.plot(X, model.predict(X), color='red')"
   ]
  },
  {
   "cell_type": "code",
   "execution_count": null,
   "id": "c5def2ca",
   "metadata": {},
   "outputs": [],
   "source": []
  }
 ],
 "metadata": {
  "kernelspec": {
   "display_name": "Python 3 (ipykernel)",
   "language": "python",
   "name": "python3"
  },
  "language_info": {
   "codemirror_mode": {
    "name": "ipython",
    "version": 3
   },
   "file_extension": ".py",
   "mimetype": "text/x-python",
   "name": "python",
   "nbconvert_exporter": "python",
   "pygments_lexer": "ipython3",
   "version": "3.7.2"
  }
 },
 "nbformat": 4,
 "nbformat_minor": 5
}
