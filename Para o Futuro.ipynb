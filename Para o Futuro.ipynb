{
 "cells": [
  {
   "cell_type": "markdown",
   "id": "74e4c8d1",
   "metadata": {},
   "source": [
    "# 1) Sobre redes neurais:\n",
    "- O livro mais famoso sobre o assunto é esse: \"Deep Learning (Adaptive Computation and Machine Learning series) - por Ian Goodfellow (Autor), Yoshua Bengio (Autor), Aaron Courville (Autor)\"\n",
    "- Mas a menos que você tenha experiencia previa no assunto eu não recomendo a leitura dele (guarde para depois que você vai aproveitar mais)\n",
    "- A melhor forma de aprender no começo é a pratica. Escolha cases simples no Kaggle, e resolva-os com rede neurais, mesmo que não precise. Depois evolua para problemas mais complexos, problemas com texto, imagem, som e video.\n",
    "- Pesquise, leia artigos cientificos e procure videos no youtube sobre o assunto."
   ]
  },
  {
   "cell_type": "markdown",
   "id": "01ac7e3a",
   "metadata": {},
   "source": [
    "# 2) Sobre imagens e som:\n",
    "- Escolha bases complexas no kaggle e teste com variações dos algoritmos vistos em sala\n",
    "- Pesquise por soluções especificas: \"Como remover fundos complexos\" \"como escurecer apenas o ceu\", etc\n",
    "- Treine!"
   ]
  },
  {
   "cell_type": "markdown",
   "id": "b6e7c3ec",
   "metadata": {},
   "source": [
    "# 3) Sobre dados em geral:\n",
    "- Lembre-se sempre: Trash-in Thrash-out. Sempre trabalhe muito bem sua base, pesquise formas de fazer isso em casos mais complexos.\n",
    "- Cuidado com os Over e os Under: Overfit, OverSample, Underfit, UnderSample\n",
    "- Sempre começe com modelos simples. Use-os como base, e coloque-os em produção rapidamente se eles resolveram seu problema de negocio (regra: \"keep it simple\"). Modelos simples também são mais confortaveis para os stakeholders\n",
    "- Estude as regras de negocio. Converse com o time de produtos, financeiro, people, o que for preciso. Não saia modelando. Você não é o robo dessa equação.\n",
    "- Mantenha-se atualizado via blogs: \"Towards Data Science\" e \"Towards AI\" no Medium são 2 dos mais famosos.\n",
    "- Procure cursos: Recomendo todos do \"Andrew Ng\"\n",
    "- E se gostar, tenha livros de referencia (A editora O'Relly tem milhares, e varios em portugues)\n"
   ]
  },
  {
   "cell_type": "code",
   "execution_count": null,
   "id": "9e784270",
   "metadata": {},
   "outputs": [],
   "source": []
  }
 ],
 "metadata": {
  "kernelspec": {
   "display_name": "Python 3 (ipykernel)",
   "language": "python",
   "name": "python3"
  },
  "language_info": {
   "codemirror_mode": {
    "name": "ipython",
    "version": 3
   },
   "file_extension": ".py",
   "mimetype": "text/x-python",
   "name": "python",
   "nbconvert_exporter": "python",
   "pygments_lexer": "ipython3",
   "version": "3.7.2"
  }
 },
 "nbformat": 4,
 "nbformat_minor": 5
}
